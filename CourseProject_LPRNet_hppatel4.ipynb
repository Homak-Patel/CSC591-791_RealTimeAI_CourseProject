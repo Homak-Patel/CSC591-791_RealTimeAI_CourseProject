{
  "cells": [
    {
      "cell_type": "markdown",
      "source": [
        "# CSC591/791 Real-TIme AI and High Performance Machine Learning Systems (Homak Patel (hppatel4))\n"
      ],
      "metadata": {
        "id": "CEwQZJQkfLS5"
      }
    },
    {
      "cell_type": "markdown",
      "metadata": {
        "id": "BoTk4msjEiWV"
      },
      "source": [
        "### **1.Loading Model from Github repository**"
      ]
    },
    {
      "cell_type": "code",
      "execution_count": 1,
      "metadata": {
        "colab": {
          "base_uri": "https://localhost:8080/"
        },
        "id": "GoH5W0BsFBdu",
        "outputId": "94e3402d-b2a9-4a6d-c067-45b7a1beb6af"
      },
      "outputs": [
        {
          "output_type": "stream",
          "name": "stdout",
          "text": [
            "fatal: destination path 'LPRNet_Pytorch' already exists and is not an empty directory.\n",
            "/content/LPRNet_Pytorch\n",
            "autoscheduler_history.json  model\t\t\t       test_LPRNet.py\n",
            "data\t\t\t    original_model_size.onnx\t       train_LPRNet.py\n",
            "Final_LPRNet_model.pth\t    pruned_model_size.onnx\t       tuning.log\n",
            "Final_tvm_lprnet.onnx\t    quantized_model_size.onnx\t       weights\n",
            "LICENSE\t\t\t    quantized_pruned_LPRNet_model.pth\n",
            "LPRNet_Pytorch\t\t    README.md\n"
          ]
        }
      ],
      "source": [
        "!git clone https://github.com/sirius-ai/LPRNet_Pytorch.git\n",
        "%cd LPRNet_Pytorch\n",
        "!ls"
      ]
    },
    {
      "cell_type": "code",
      "execution_count": 2,
      "metadata": {
        "colab": {
          "base_uri": "https://localhost:8080/"
        },
        "id": "ean03_9MFG5y",
        "outputId": "80f4e750-70e1-4c4b-8109-03abc7f16d78"
      },
      "outputs": [
        {
          "output_type": "stream",
          "name": "stdout",
          "text": [
            "Requirement already satisfied: opencv-python in /usr/local/lib/python3.10/dist-packages (4.10.0.84)\n",
            "Requirement already satisfied: imutils in /usr/local/lib/python3.10/dist-packages (0.5.4)\n",
            "Requirement already satisfied: Pillow in /usr/local/lib/python3.10/dist-packages (11.0.0)\n",
            "Requirement already satisfied: numpy in /usr/local/lib/python3.10/dist-packages (1.26.4)\n"
          ]
        }
      ],
      "source": [
        "!pip install opencv-python imutils Pillow numpy"
      ]
    },
    {
      "cell_type": "code",
      "execution_count": 3,
      "metadata": {
        "colab": {
          "base_uri": "https://localhost:8080/"
        },
        "id": "vKxNRoWiJx1E",
        "outputId": "318640b1-c83f-488b-f060-d9633d97cf74"
      },
      "outputs": [
        {
          "output_type": "stream",
          "name": "stdout",
          "text": [
            "Requirement already satisfied: torch in /usr/local/lib/python3.10/dist-packages (2.5.1+cu121)\n",
            "Requirement already satisfied: torchvision in /usr/local/lib/python3.10/dist-packages (0.20.1+cu121)\n",
            "Requirement already satisfied: torchaudio in /usr/local/lib/python3.10/dist-packages (2.5.1+cu121)\n",
            "Requirement already satisfied: opencv-python in /usr/local/lib/python3.10/dist-packages (4.10.0.84)\n",
            "Requirement already satisfied: filelock in /usr/local/lib/python3.10/dist-packages (from torch) (3.16.1)\n",
            "Requirement already satisfied: typing-extensions>=4.8.0 in /usr/local/lib/python3.10/dist-packages (from torch) (4.12.2)\n",
            "Requirement already satisfied: networkx in /usr/local/lib/python3.10/dist-packages (from torch) (3.4.2)\n",
            "Requirement already satisfied: jinja2 in /usr/local/lib/python3.10/dist-packages (from torch) (3.1.4)\n",
            "Requirement already satisfied: fsspec in /usr/local/lib/python3.10/dist-packages (from torch) (2024.10.0)\n",
            "Requirement already satisfied: sympy==1.13.1 in /usr/local/lib/python3.10/dist-packages (from torch) (1.13.1)\n",
            "Requirement already satisfied: mpmath<1.4,>=1.1.0 in /usr/local/lib/python3.10/dist-packages (from sympy==1.13.1->torch) (1.3.0)\n",
            "Requirement already satisfied: numpy in /usr/local/lib/python3.10/dist-packages (from torchvision) (1.26.4)\n",
            "Requirement already satisfied: pillow!=8.3.*,>=5.3.0 in /usr/local/lib/python3.10/dist-packages (from torchvision) (11.0.0)\n",
            "Requirement already satisfied: MarkupSafe>=2.0 in /usr/local/lib/python3.10/dist-packages (from jinja2->torch) (3.0.2)\n"
          ]
        }
      ],
      "source": [
        "!pip install torch torchvision torchaudio opencv-python"
      ]
    },
    {
      "cell_type": "code",
      "execution_count": 4,
      "metadata": {
        "colab": {
          "base_uri": "https://localhost:8080/"
        },
        "id": "SHj-MBopFLXj",
        "outputId": "d582e52f-5858-4abd-82a5-79536b6f3335"
      },
      "outputs": [
        {
          "output_type": "stream",
          "name": "stdout",
          "text": [
            "--2024-12-08 14:59:43--  https://github.com/sirius-ai/LPRNet_Pytorch/raw/master/weights/Final_LPRNet_model.pth\n",
            "Resolving github.com (github.com)... 140.82.113.4\n",
            "Connecting to github.com (github.com)|140.82.113.4|:443... connected.\n",
            "HTTP request sent, awaiting response... 302 Found\n",
            "Location: https://raw.githubusercontent.com/sirius-ai/LPRNet_Pytorch/master/weights/Final_LPRNet_model.pth [following]\n",
            "--2024-12-08 14:59:44--  https://raw.githubusercontent.com/sirius-ai/LPRNet_Pytorch/master/weights/Final_LPRNet_model.pth\n",
            "Resolving raw.githubusercontent.com (raw.githubusercontent.com)... 185.199.108.133, 185.199.110.133, 185.199.111.133, ...\n",
            "Connecting to raw.githubusercontent.com (raw.githubusercontent.com)|185.199.108.133|:443... connected.\n",
            "HTTP request sent, awaiting response... 200 OK\n",
            "Length: 1806995 (1.7M) [application/octet-stream]\n",
            "Saving to: ‘Final_LPRNet_model.pth’\n",
            "\n",
            "Final_LPRNet_model. 100%[===================>]   1.72M  --.-KB/s    in 0.07s   \n",
            "\n",
            "2024-12-08 14:59:44 (25.9 MB/s) - ‘Final_LPRNet_model.pth’ saved [1806995/1806995]\n",
            "\n"
          ]
        }
      ],
      "source": [
        "!wget -O Final_LPRNet_model.pth https://github.com/sirius-ai/LPRNet_Pytorch/raw/master/weights/Final_LPRNet_model.pth"
      ]
    },
    {
      "cell_type": "code",
      "execution_count": 5,
      "metadata": {
        "colab": {
          "base_uri": "https://localhost:8080/"
        },
        "id": "f_NrIkYGF78r",
        "outputId": "547b9a24-6b89-4d49-f9ff-f2324584b66a"
      },
      "outputs": [
        {
          "output_type": "stream",
          "name": "stdout",
          "text": [
            "Requirement already satisfied: lightning in /usr/local/lib/python3.10/dist-packages (2.4.0)\n",
            "Requirement already satisfied: numpy in /usr/local/lib/python3.10/dist-packages (1.26.4)\n",
            "Requirement already satisfied: torch in /usr/local/lib/python3.10/dist-packages (2.5.1+cu121)\n",
            "Requirement already satisfied: tqdm in /usr/local/lib/python3.10/dist-packages (4.66.6)\n",
            "Requirement already satisfied: PyYAML in /usr/local/lib/python3.10/dist-packages (6.0.2)\n",
            "Requirement already satisfied: opencv-python in /usr/local/lib/python3.10/dist-packages (4.10.0.84)\n",
            "Requirement already satisfied: imutils in /usr/local/lib/python3.10/dist-packages (0.5.4)\n",
            "Requirement already satisfied: rich in /usr/local/lib/python3.10/dist-packages (13.9.4)\n",
            "Requirement already satisfied: fsspec<2026.0,>=2022.5.0 in /usr/local/lib/python3.10/dist-packages (from fsspec[http]<2026.0,>=2022.5.0->lightning) (2024.10.0)\n",
            "Requirement already satisfied: lightning-utilities<2.0,>=0.10.0 in /usr/local/lib/python3.10/dist-packages (from lightning) (0.11.9)\n",
            "Requirement already satisfied: packaging<25.0,>=20.0 in /usr/local/lib/python3.10/dist-packages (from lightning) (24.2)\n",
            "Requirement already satisfied: torchmetrics<3.0,>=0.7.0 in /usr/local/lib/python3.10/dist-packages (from lightning) (1.6.0)\n",
            "Requirement already satisfied: typing-extensions<6.0,>=4.4.0 in /usr/local/lib/python3.10/dist-packages (from lightning) (4.12.2)\n",
            "Requirement already satisfied: pytorch-lightning in /usr/local/lib/python3.10/dist-packages (from lightning) (2.4.0)\n",
            "Requirement already satisfied: filelock in /usr/local/lib/python3.10/dist-packages (from torch) (3.16.1)\n",
            "Requirement already satisfied: networkx in /usr/local/lib/python3.10/dist-packages (from torch) (3.4.2)\n",
            "Requirement already satisfied: jinja2 in /usr/local/lib/python3.10/dist-packages (from torch) (3.1.4)\n",
            "Requirement already satisfied: sympy==1.13.1 in /usr/local/lib/python3.10/dist-packages (from torch) (1.13.1)\n",
            "Requirement already satisfied: mpmath<1.4,>=1.1.0 in /usr/local/lib/python3.10/dist-packages (from sympy==1.13.1->torch) (1.3.0)\n",
            "Requirement already satisfied: markdown-it-py>=2.2.0 in /usr/local/lib/python3.10/dist-packages (from rich) (3.0.0)\n",
            "Requirement already satisfied: pygments<3.0.0,>=2.13.0 in /usr/local/lib/python3.10/dist-packages (from rich) (2.18.0)\n",
            "Requirement already satisfied: aiohttp!=4.0.0a0,!=4.0.0a1 in /usr/local/lib/python3.10/dist-packages (from fsspec[http]<2026.0,>=2022.5.0->lightning) (3.11.9)\n",
            "Requirement already satisfied: setuptools in /usr/local/lib/python3.10/dist-packages (from lightning-utilities<2.0,>=0.10.0->lightning) (75.1.0)\n",
            "Requirement already satisfied: mdurl~=0.1 in /usr/local/lib/python3.10/dist-packages (from markdown-it-py>=2.2.0->rich) (0.1.2)\n",
            "Requirement already satisfied: MarkupSafe>=2.0 in /usr/local/lib/python3.10/dist-packages (from jinja2->torch) (3.0.2)\n",
            "Requirement already satisfied: aiohappyeyeballs>=2.3.0 in /usr/local/lib/python3.10/dist-packages (from aiohttp!=4.0.0a0,!=4.0.0a1->fsspec[http]<2026.0,>=2022.5.0->lightning) (2.4.4)\n",
            "Requirement already satisfied: aiosignal>=1.1.2 in /usr/local/lib/python3.10/dist-packages (from aiohttp!=4.0.0a0,!=4.0.0a1->fsspec[http]<2026.0,>=2022.5.0->lightning) (1.3.1)\n",
            "Requirement already satisfied: async-timeout<6.0,>=4.0 in /usr/local/lib/python3.10/dist-packages (from aiohttp!=4.0.0a0,!=4.0.0a1->fsspec[http]<2026.0,>=2022.5.0->lightning) (4.0.3)\n",
            "Requirement already satisfied: attrs>=17.3.0 in /usr/local/lib/python3.10/dist-packages (from aiohttp!=4.0.0a0,!=4.0.0a1->fsspec[http]<2026.0,>=2022.5.0->lightning) (24.2.0)\n",
            "Requirement already satisfied: frozenlist>=1.1.1 in /usr/local/lib/python3.10/dist-packages (from aiohttp!=4.0.0a0,!=4.0.0a1->fsspec[http]<2026.0,>=2022.5.0->lightning) (1.5.0)\n",
            "Requirement already satisfied: multidict<7.0,>=4.5 in /usr/local/lib/python3.10/dist-packages (from aiohttp!=4.0.0a0,!=4.0.0a1->fsspec[http]<2026.0,>=2022.5.0->lightning) (6.1.0)\n",
            "Requirement already satisfied: propcache>=0.2.0 in /usr/local/lib/python3.10/dist-packages (from aiohttp!=4.0.0a0,!=4.0.0a1->fsspec[http]<2026.0,>=2022.5.0->lightning) (0.2.1)\n",
            "Requirement already satisfied: yarl<2.0,>=1.17.0 in /usr/local/lib/python3.10/dist-packages (from aiohttp!=4.0.0a0,!=4.0.0a1->fsspec[http]<2026.0,>=2022.5.0->lightning) (1.18.3)\n",
            "Requirement already satisfied: idna>=2.0 in /usr/local/lib/python3.10/dist-packages (from yarl<2.0,>=1.17.0->aiohttp!=4.0.0a0,!=4.0.0a1->fsspec[http]<2026.0,>=2022.5.0->lightning) (3.10)\n"
          ]
        }
      ],
      "source": [
        "!pip install lightning numpy torch tqdm PyYAML opencv-python imutils rich"
      ]
    },
    {
      "cell_type": "code",
      "execution_count": 6,
      "metadata": {
        "colab": {
          "base_uri": "https://localhost:8080/",
          "height": 755
        },
        "id": "dKGETPKiKz77",
        "outputId": "6747042c-bee1-4599-b8be-accc61156f59"
      },
      "outputs": [
        {
          "output_type": "stream",
          "name": "stdout",
          "text": [
            "Requirement already satisfied: numpy in /usr/local/lib/python3.10/dist-packages (1.26.4)\n",
            "Collecting protobuf==3.16.0\n",
            "  Using cached protobuf-3.16.0-py2.py3-none-any.whl.metadata (858 bytes)\n",
            "Requirement already satisfied: six>=1.9 in /usr/local/lib/python3.10/dist-packages (from protobuf==3.16.0) (1.16.0)\n",
            "Using cached protobuf-3.16.0-py2.py3-none-any.whl (173 kB)\n",
            "Installing collected packages: protobuf\n",
            "  Attempting uninstall: protobuf\n",
            "    Found existing installation: protobuf 4.25.5\n",
            "    Uninstalling protobuf-4.25.5:\n",
            "      Successfully uninstalled protobuf-4.25.5\n",
            "\u001b[31mERROR: pip's dependency resolver does not currently take into account all the packages that are installed. This behaviour is the source of the following dependency conflicts.\n",
            "google-ai-generativelanguage 0.6.10 requires protobuf!=4.21.0,!=4.21.1,!=4.21.2,!=4.21.3,!=4.21.4,!=4.21.5,<6.0.0dev,>=3.20.2, but you have protobuf 3.16.0 which is incompatible.\n",
            "google-api-core 2.19.2 requires protobuf!=3.20.0,!=3.20.1,!=4.21.0,!=4.21.1,!=4.21.2,!=4.21.3,!=4.21.4,!=4.21.5,<6.0.0.dev0,>=3.19.5, but you have protobuf 3.16.0 which is incompatible.\n",
            "google-cloud-aiplatform 1.73.0 requires protobuf!=4.21.0,!=4.21.1,!=4.21.2,!=4.21.3,!=4.21.4,!=4.21.5,<6.0.0dev,>=3.20.2, but you have protobuf 3.16.0 which is incompatible.\n",
            "google-cloud-bigquery-connection 1.16.1 requires protobuf!=4.21.0,!=4.21.1,!=4.21.2,!=4.21.3,!=4.21.4,!=4.21.5,<6.0.0dev,>=3.20.2, but you have protobuf 3.16.0 which is incompatible.\n",
            "google-cloud-bigquery-storage 2.27.0 requires protobuf!=3.20.0,!=3.20.1,!=4.21.0,!=4.21.1,!=4.21.2,!=4.21.3,!=4.21.4,!=4.21.5,<6.0.0dev,>=3.20.2, but you have protobuf 3.16.0 which is incompatible.\n",
            "google-cloud-bigtable 2.27.0 requires protobuf!=4.21.0,!=4.21.1,!=4.21.2,!=4.21.3,!=4.21.4,!=4.21.5,<6.0.0dev,>=3.20.2, but you have protobuf 3.16.0 which is incompatible.\n",
            "google-cloud-datastore 2.20.1 requires protobuf!=3.20.0,!=3.20.1,!=4.21.0,!=4.21.1,!=4.21.2,!=4.21.3,!=4.21.4,!=4.21.5,<6.0.0dev,>=3.20.2, but you have protobuf 3.16.0 which is incompatible.\n",
            "google-cloud-firestore 2.19.0 requires protobuf!=3.20.0,!=3.20.1,!=4.21.0,!=4.21.1,!=4.21.2,!=4.21.3,!=4.21.4,!=4.21.5,<6.0.0dev,>=3.20.2, but you have protobuf 3.16.0 which is incompatible.\n",
            "google-cloud-functions 1.18.1 requires protobuf!=4.21.0,!=4.21.1,!=4.21.2,!=4.21.3,!=4.21.4,!=4.21.5,<6.0.0dev,>=3.20.2, but you have protobuf 3.16.0 which is incompatible.\n",
            "google-cloud-iam 2.16.1 requires protobuf!=4.21.0,!=4.21.1,!=4.21.2,!=4.21.3,!=4.21.4,!=4.21.5,<6.0.0dev,>=3.20.2, but you have protobuf 3.16.0 which is incompatible.\n",
            "google-cloud-language 2.15.1 requires protobuf!=4.21.0,!=4.21.1,!=4.21.2,!=4.21.3,!=4.21.4,!=4.21.5,<6.0.0dev,>=3.20.2, but you have protobuf 3.16.0 which is incompatible.\n",
            "google-cloud-pubsub 2.27.1 requires protobuf!=4.21.0,!=4.21.1,!=4.21.2,!=4.21.3,!=4.21.4,!=4.21.5,<6.0.0dev,>=3.20.2, but you have protobuf 3.16.0 which is incompatible.\n",
            "google-cloud-resource-manager 1.13.1 requires protobuf!=4.21.0,!=4.21.1,!=4.21.2,!=4.21.3,!=4.21.4,!=4.21.5,<6.0.0dev,>=3.20.2, but you have protobuf 3.16.0 which is incompatible.\n",
            "google-cloud-translate 3.17.0 requires protobuf!=4.21.0,!=4.21.1,!=4.21.2,!=4.21.3,!=4.21.4,!=4.21.5,<6.0.0dev,>=3.20.2, but you have protobuf 3.16.0 which is incompatible.\n",
            "googleapis-common-protos 1.66.0 requires protobuf!=3.20.0,!=3.20.1,!=4.21.1,!=4.21.2,!=4.21.3,!=4.21.4,!=4.21.5,<6.0.0.dev0,>=3.20.2, but you have protobuf 3.16.0 which is incompatible.\n",
            "grpc-google-iam-v1 0.13.1 requires protobuf!=4.21.1,!=4.21.2,!=4.21.3,!=4.21.4,!=4.21.5,<6.0.0dev,>=3.20.2, but you have protobuf 3.16.0 which is incompatible.\n",
            "grpcio-status 1.62.3 requires protobuf>=4.21.6, but you have protobuf 3.16.0 which is incompatible.\n",
            "onnx 1.17.0 requires protobuf>=3.20.2, but you have protobuf 3.16.0 which is incompatible.\n",
            "proto-plus 1.25.0 requires protobuf<6.0.0dev,>=3.19.0, but you have protobuf 3.16.0 which is incompatible.\n",
            "tensorboard 2.17.1 requires protobuf!=4.24.0,>=3.19.6, but you have protobuf 3.16.0 which is incompatible.\n",
            "tensorflow 2.17.1 requires protobuf!=4.21.0,!=4.21.1,!=4.21.2,!=4.21.3,!=4.21.4,!=4.21.5,<5.0.0dev,>=3.20.3, but you have protobuf 3.16.0 which is incompatible.\n",
            "tensorflow-datasets 4.9.7 requires protobuf>=3.20, but you have protobuf 3.16.0 which is incompatible.\n",
            "tensorflow-hub 0.16.1 requires protobuf>=3.19.6, but you have protobuf 3.16.0 which is incompatible.\n",
            "tensorflow-metadata 1.13.1 requires protobuf<5,>=3.20.3, but you have protobuf 3.16.0 which is incompatible.\n",
            "wandb 0.18.7 requires protobuf!=4.21.0,!=5.28.0,<6,>=3.19.0; python_version > \"3.9\" and sys_platform == \"linux\", but you have protobuf 3.16.0 which is incompatible.\u001b[0m\u001b[31m\n",
            "\u001b[0mSuccessfully installed protobuf-3.16.0\n"
          ]
        },
        {
          "output_type": "display_data",
          "data": {
            "application/vnd.colab-display-data+json": {
              "pip_warning": {
                "packages": [
                  "google"
                ]
              },
              "id": "291fe1e580814c88819bfa51372d3709"
            }
          },
          "metadata": {}
        }
      ],
      "source": [
        "!pip install numpy protobuf==3.16.0"
      ]
    },
    {
      "cell_type": "code",
      "execution_count": 7,
      "metadata": {
        "colab": {
          "base_uri": "https://localhost:8080/"
        },
        "id": "9qNQw4XnK13o",
        "outputId": "e489ef82-0f24-4f97-a175-e368e9eb6ac0"
      },
      "outputs": [
        {
          "output_type": "stream",
          "name": "stdout",
          "text": [
            "Requirement already satisfied: onnx in /usr/local/lib/python3.10/dist-packages (1.17.0)\n",
            "Requirement already satisfied: numpy>=1.20 in /usr/local/lib/python3.10/dist-packages (from onnx) (1.26.4)\n",
            "Collecting protobuf>=3.20.2 (from onnx)\n",
            "  Using cached protobuf-5.29.1-cp38-abi3-manylinux2014_x86_64.whl.metadata (592 bytes)\n",
            "Using cached protobuf-5.29.1-cp38-abi3-manylinux2014_x86_64.whl (319 kB)\n",
            "Installing collected packages: protobuf\n",
            "  Attempting uninstall: protobuf\n",
            "    Found existing installation: protobuf 3.16.0\n",
            "    Uninstalling protobuf-3.16.0:\n",
            "      Successfully uninstalled protobuf-3.16.0\n",
            "\u001b[31mERROR: pip's dependency resolver does not currently take into account all the packages that are installed. This behaviour is the source of the following dependency conflicts.\n",
            "tensorflow 2.17.1 requires protobuf!=4.21.0,!=4.21.1,!=4.21.2,!=4.21.3,!=4.21.4,!=4.21.5,<5.0.0dev,>=3.20.3, but you have protobuf 5.29.1 which is incompatible.\n",
            "tensorflow-metadata 1.13.1 requires protobuf<5,>=3.20.3, but you have protobuf 5.29.1 which is incompatible.\u001b[0m\u001b[31m\n",
            "\u001b[0mSuccessfully installed protobuf-5.29.1\n"
          ]
        }
      ],
      "source": [
        "!pip install onnx"
      ]
    },
    {
      "cell_type": "code",
      "execution_count": 8,
      "metadata": {
        "colab": {
          "base_uri": "https://localhost:8080/"
        },
        "id": "1c4ezP7iK6Mi",
        "outputId": "3cfa94be-f5b2-4daf-848a-055eaf4d7328"
      },
      "outputs": [
        {
          "output_type": "stream",
          "name": "stdout",
          "text": [
            "Requirement already satisfied: onnxruntime in /usr/local/lib/python3.10/dist-packages (1.20.1)\n",
            "Requirement already satisfied: coloredlogs in /usr/local/lib/python3.10/dist-packages (from onnxruntime) (15.0.1)\n",
            "Requirement already satisfied: flatbuffers in /usr/local/lib/python3.10/dist-packages (from onnxruntime) (24.3.25)\n",
            "Requirement already satisfied: numpy>=1.21.6 in /usr/local/lib/python3.10/dist-packages (from onnxruntime) (1.26.4)\n",
            "Requirement already satisfied: packaging in /usr/local/lib/python3.10/dist-packages (from onnxruntime) (24.2)\n",
            "Requirement already satisfied: protobuf in /usr/local/lib/python3.10/dist-packages (from onnxruntime) (5.29.1)\n",
            "Requirement already satisfied: sympy in /usr/local/lib/python3.10/dist-packages (from onnxruntime) (1.13.1)\n",
            "Requirement already satisfied: humanfriendly>=9.1 in /usr/local/lib/python3.10/dist-packages (from coloredlogs->onnxruntime) (10.0)\n",
            "Requirement already satisfied: mpmath<1.4,>=1.1.0 in /usr/local/lib/python3.10/dist-packages (from sympy->onnxruntime) (1.3.0)\n"
          ]
        }
      ],
      "source": [
        "!pip install onnxruntime"
      ]
    },
    {
      "cell_type": "code",
      "execution_count": 9,
      "metadata": {
        "colab": {
          "base_uri": "https://localhost:8080/"
        },
        "id": "zdRqAD7wvRce",
        "outputId": "b517e3a1-ec87-4467-f593-29cb136d9b42"
      },
      "outputs": [
        {
          "output_type": "stream",
          "name": "stdout",
          "text": [
            "Looking in links: https://mlc.ai/wheels\n",
            "Requirement already satisfied: mlc-ai-cpu in /usr/local/lib/python3.10/dist-packages (0.17.2)\n",
            "Requirement already satisfied: attrs in /usr/local/lib/python3.10/dist-packages (from mlc-ai-cpu) (24.2.0)\n",
            "Requirement already satisfied: cloudpickle in /usr/local/lib/python3.10/dist-packages (from mlc-ai-cpu) (3.1.0)\n",
            "Requirement already satisfied: decorator in /usr/local/lib/python3.10/dist-packages (from mlc-ai-cpu) (4.4.2)\n",
            "Requirement already satisfied: ml-dtypes in /usr/local/lib/python3.10/dist-packages (from mlc-ai-cpu) (0.4.1)\n",
            "Requirement already satisfied: numpy in /usr/local/lib/python3.10/dist-packages (from mlc-ai-cpu) (1.26.4)\n",
            "Requirement already satisfied: packaging in /usr/local/lib/python3.10/dist-packages (from mlc-ai-cpu) (24.2)\n",
            "Requirement already satisfied: psutil in /usr/local/lib/python3.10/dist-packages (from mlc-ai-cpu) (5.9.5)\n",
            "Requirement already satisfied: scipy in /usr/local/lib/python3.10/dist-packages (from mlc-ai-cpu) (1.13.1)\n",
            "Requirement already satisfied: tornado in /usr/local/lib/python3.10/dist-packages (from mlc-ai-cpu) (6.3.3)\n",
            "Requirement already satisfied: typing-extensions in /usr/local/lib/python3.10/dist-packages (from mlc-ai-cpu) (4.12.2)\n",
            "Requirement already satisfied: torch in /usr/local/lib/python3.10/dist-packages (2.5.1+cu121)\n",
            "Requirement already satisfied: filelock in /usr/local/lib/python3.10/dist-packages (from torch) (3.16.1)\n",
            "Requirement already satisfied: typing-extensions>=4.8.0 in /usr/local/lib/python3.10/dist-packages (from torch) (4.12.2)\n",
            "Requirement already satisfied: networkx in /usr/local/lib/python3.10/dist-packages (from torch) (3.4.2)\n",
            "Requirement already satisfied: jinja2 in /usr/local/lib/python3.10/dist-packages (from torch) (3.1.4)\n",
            "Requirement already satisfied: fsspec in /usr/local/lib/python3.10/dist-packages (from torch) (2024.10.0)\n",
            "Requirement already satisfied: sympy==1.13.1 in /usr/local/lib/python3.10/dist-packages (from torch) (1.13.1)\n",
            "Requirement already satisfied: mpmath<1.4,>=1.1.0 in /usr/local/lib/python3.10/dist-packages (from sympy==1.13.1->torch) (1.3.0)\n",
            "Requirement already satisfied: MarkupSafe>=2.0 in /usr/local/lib/python3.10/dist-packages (from jinja2->torch) (3.0.2)\n",
            "Requirement already satisfied: torchvision in /usr/local/lib/python3.10/dist-packages (0.20.1+cu121)\n",
            "Requirement already satisfied: numpy in /usr/local/lib/python3.10/dist-packages (from torchvision) (1.26.4)\n",
            "Requirement already satisfied: torch==2.5.1 in /usr/local/lib/python3.10/dist-packages (from torchvision) (2.5.1+cu121)\n",
            "Requirement already satisfied: pillow!=8.3.*,>=5.3.0 in /usr/local/lib/python3.10/dist-packages (from torchvision) (11.0.0)\n",
            "Requirement already satisfied: filelock in /usr/local/lib/python3.10/dist-packages (from torch==2.5.1->torchvision) (3.16.1)\n",
            "Requirement already satisfied: typing-extensions>=4.8.0 in /usr/local/lib/python3.10/dist-packages (from torch==2.5.1->torchvision) (4.12.2)\n",
            "Requirement already satisfied: networkx in /usr/local/lib/python3.10/dist-packages (from torch==2.5.1->torchvision) (3.4.2)\n",
            "Requirement already satisfied: jinja2 in /usr/local/lib/python3.10/dist-packages (from torch==2.5.1->torchvision) (3.1.4)\n",
            "Requirement already satisfied: fsspec in /usr/local/lib/python3.10/dist-packages (from torch==2.5.1->torchvision) (2024.10.0)\n",
            "Requirement already satisfied: sympy==1.13.1 in /usr/local/lib/python3.10/dist-packages (from torch==2.5.1->torchvision) (1.13.1)\n",
            "Requirement already satisfied: mpmath<1.4,>=1.1.0 in /usr/local/lib/python3.10/dist-packages (from sympy==1.13.1->torch==2.5.1->torchvision) (1.3.0)\n",
            "Requirement already satisfied: MarkupSafe>=2.0 in /usr/local/lib/python3.10/dist-packages (from jinja2->torch==2.5.1->torchvision) (3.0.2)\n",
            "Requirement already satisfied: tensorflow in /usr/local/lib/python3.10/dist-packages (2.17.1)\n",
            "Requirement already satisfied: absl-py>=1.0.0 in /usr/local/lib/python3.10/dist-packages (from tensorflow) (1.4.0)\n",
            "Requirement already satisfied: astunparse>=1.6.0 in /usr/local/lib/python3.10/dist-packages (from tensorflow) (1.6.3)\n",
            "Requirement already satisfied: flatbuffers>=24.3.25 in /usr/local/lib/python3.10/dist-packages (from tensorflow) (24.3.25)\n",
            "Requirement already satisfied: gast!=0.5.0,!=0.5.1,!=0.5.2,>=0.2.1 in /usr/local/lib/python3.10/dist-packages (from tensorflow) (0.6.0)\n",
            "Requirement already satisfied: google-pasta>=0.1.1 in /usr/local/lib/python3.10/dist-packages (from tensorflow) (0.2.0)\n",
            "Requirement already satisfied: h5py>=3.10.0 in /usr/local/lib/python3.10/dist-packages (from tensorflow) (3.12.1)\n",
            "Requirement already satisfied: libclang>=13.0.0 in /usr/local/lib/python3.10/dist-packages (from tensorflow) (18.1.1)\n",
            "Requirement already satisfied: ml-dtypes<0.5.0,>=0.3.1 in /usr/local/lib/python3.10/dist-packages (from tensorflow) (0.4.1)\n",
            "Requirement already satisfied: opt-einsum>=2.3.2 in /usr/local/lib/python3.10/dist-packages (from tensorflow) (3.4.0)\n",
            "Requirement already satisfied: packaging in /usr/local/lib/python3.10/dist-packages (from tensorflow) (24.2)\n",
            "Collecting protobuf!=4.21.0,!=4.21.1,!=4.21.2,!=4.21.3,!=4.21.4,!=4.21.5,<5.0.0dev,>=3.20.3 (from tensorflow)\n",
            "  Using cached protobuf-4.25.5-cp37-abi3-manylinux2014_x86_64.whl.metadata (541 bytes)\n",
            "Requirement already satisfied: requests<3,>=2.21.0 in /usr/local/lib/python3.10/dist-packages (from tensorflow) (2.32.3)\n",
            "Requirement already satisfied: setuptools in /usr/local/lib/python3.10/dist-packages (from tensorflow) (75.1.0)\n",
            "Requirement already satisfied: six>=1.12.0 in /usr/local/lib/python3.10/dist-packages (from tensorflow) (1.16.0)\n",
            "Requirement already satisfied: termcolor>=1.1.0 in /usr/local/lib/python3.10/dist-packages (from tensorflow) (2.5.0)\n",
            "Requirement already satisfied: typing-extensions>=3.6.6 in /usr/local/lib/python3.10/dist-packages (from tensorflow) (4.12.2)\n",
            "Requirement already satisfied: wrapt>=1.11.0 in /usr/local/lib/python3.10/dist-packages (from tensorflow) (1.17.0)\n",
            "Requirement already satisfied: grpcio<2.0,>=1.24.3 in /usr/local/lib/python3.10/dist-packages (from tensorflow) (1.68.1)\n",
            "Requirement already satisfied: tensorboard<2.18,>=2.17 in /usr/local/lib/python3.10/dist-packages (from tensorflow) (2.17.1)\n",
            "Requirement already satisfied: keras>=3.2.0 in /usr/local/lib/python3.10/dist-packages (from tensorflow) (3.5.0)\n",
            "Requirement already satisfied: tensorflow-io-gcs-filesystem>=0.23.1 in /usr/local/lib/python3.10/dist-packages (from tensorflow) (0.37.1)\n",
            "Requirement already satisfied: numpy<2.0.0,>=1.23.5 in /usr/local/lib/python3.10/dist-packages (from tensorflow) (1.26.4)\n",
            "Requirement already satisfied: wheel<1.0,>=0.23.0 in /usr/local/lib/python3.10/dist-packages (from astunparse>=1.6.0->tensorflow) (0.45.1)\n",
            "Requirement already satisfied: rich in /usr/local/lib/python3.10/dist-packages (from keras>=3.2.0->tensorflow) (13.9.4)\n",
            "Requirement already satisfied: namex in /usr/local/lib/python3.10/dist-packages (from keras>=3.2.0->tensorflow) (0.0.8)\n",
            "Requirement already satisfied: optree in /usr/local/lib/python3.10/dist-packages (from keras>=3.2.0->tensorflow) (0.13.1)\n",
            "Requirement already satisfied: charset-normalizer<4,>=2 in /usr/local/lib/python3.10/dist-packages (from requests<3,>=2.21.0->tensorflow) (3.4.0)\n",
            "Requirement already satisfied: idna<4,>=2.5 in /usr/local/lib/python3.10/dist-packages (from requests<3,>=2.21.0->tensorflow) (3.10)\n",
            "Requirement already satisfied: urllib3<3,>=1.21.1 in /usr/local/lib/python3.10/dist-packages (from requests<3,>=2.21.0->tensorflow) (2.2.3)\n",
            "Requirement already satisfied: certifi>=2017.4.17 in /usr/local/lib/python3.10/dist-packages (from requests<3,>=2.21.0->tensorflow) (2024.8.30)\n",
            "Requirement already satisfied: markdown>=2.6.8 in /usr/local/lib/python3.10/dist-packages (from tensorboard<2.18,>=2.17->tensorflow) (3.7)\n",
            "Requirement already satisfied: tensorboard-data-server<0.8.0,>=0.7.0 in /usr/local/lib/python3.10/dist-packages (from tensorboard<2.18,>=2.17->tensorflow) (0.7.2)\n",
            "Requirement already satisfied: werkzeug>=1.0.1 in /usr/local/lib/python3.10/dist-packages (from tensorboard<2.18,>=2.17->tensorflow) (3.1.3)\n",
            "Requirement already satisfied: MarkupSafe>=2.1.1 in /usr/local/lib/python3.10/dist-packages (from werkzeug>=1.0.1->tensorboard<2.18,>=2.17->tensorflow) (3.0.2)\n",
            "Requirement already satisfied: markdown-it-py>=2.2.0 in /usr/local/lib/python3.10/dist-packages (from rich->keras>=3.2.0->tensorflow) (3.0.0)\n",
            "Requirement already satisfied: pygments<3.0.0,>=2.13.0 in /usr/local/lib/python3.10/dist-packages (from rich->keras>=3.2.0->tensorflow) (2.18.0)\n",
            "Requirement already satisfied: mdurl~=0.1 in /usr/local/lib/python3.10/dist-packages (from markdown-it-py>=2.2.0->rich->keras>=3.2.0->tensorflow) (0.1.2)\n",
            "Using cached protobuf-4.25.5-cp37-abi3-manylinux2014_x86_64.whl (294 kB)\n",
            "Installing collected packages: protobuf\n",
            "  Attempting uninstall: protobuf\n",
            "    Found existing installation: protobuf 5.29.1\n",
            "    Uninstalling protobuf-5.29.1:\n",
            "      Successfully uninstalled protobuf-5.29.1\n",
            "Successfully installed protobuf-4.25.5\n"
          ]
        }
      ],
      "source": [
        "!python3 -m  pip install mlc-ai-cpu -f https://mlc.ai/wheels\n",
        "!pip install torch\n",
        "!pip install torchvision\n",
        "!pip install tensorflow"
      ]
    },
    {
      "cell_type": "code",
      "source": [
        "!pip install apache-tvm"
      ],
      "metadata": {
        "colab": {
          "base_uri": "https://localhost:8080/"
        },
        "id": "_XQDP9rAc-mr",
        "outputId": "d0bcf629-a051-482f-ea4d-eb54a7b400ca"
      },
      "execution_count": 10,
      "outputs": [
        {
          "output_type": "stream",
          "name": "stdout",
          "text": [
            "Requirement already satisfied: apache-tvm in /usr/local/lib/python3.10/dist-packages (0.11.1)\n",
            "Requirement already satisfied: attrs in /usr/local/lib/python3.10/dist-packages (from apache-tvm) (24.2.0)\n",
            "Requirement already satisfied: cloudpickle in /usr/local/lib/python3.10/dist-packages (from apache-tvm) (3.1.0)\n",
            "Requirement already satisfied: decorator in /usr/local/lib/python3.10/dist-packages (from apache-tvm) (4.4.2)\n",
            "Requirement already satisfied: numpy in /usr/local/lib/python3.10/dist-packages (from apache-tvm) (1.26.4)\n",
            "Requirement already satisfied: psutil in /usr/local/lib/python3.10/dist-packages (from apache-tvm) (5.9.5)\n",
            "Requirement already satisfied: scipy in /usr/local/lib/python3.10/dist-packages (from apache-tvm) (1.13.1)\n",
            "Requirement already satisfied: synr==0.6.0 in /usr/local/lib/python3.10/dist-packages (from apache-tvm) (0.6.0)\n",
            "Requirement already satisfied: tornado in /usr/local/lib/python3.10/dist-packages (from apache-tvm) (6.3.3)\n",
            "Requirement already satisfied: typing-extensions in /usr/local/lib/python3.10/dist-packages (from apache-tvm) (4.12.2)\n"
          ]
        }
      ]
    },
    {
      "cell_type": "markdown",
      "metadata": {
        "id": "VAO8k7y8JUMm"
      },
      "source": [
        "### **2. Importing necessary Libraries**"
      ]
    },
    {
      "cell_type": "code",
      "execution_count": 11,
      "metadata": {
        "colab": {
          "base_uri": "https://localhost:8080/"
        },
        "id": "ghunLojwItbi",
        "outputId": "c1889f72-6e39-4469-90b3-ed4e7b1ad812"
      },
      "outputs": [
        {
          "output_type": "stream",
          "name": "stdout",
          "text": [
            "autoscheduler_history.json  model\t\t\t       test_LPRNet.py\n",
            "data\t\t\t    original_model_size.onnx\t       train_LPRNet.py\n",
            "Final_LPRNet_model.pth\t    pruned_model_size.onnx\t       tuning.log\n",
            "Final_tvm_lprnet.onnx\t    quantized_model_size.onnx\t       weights\n",
            "LICENSE\t\t\t    quantized_pruned_LPRNet_model.pth\n",
            "LPRNet_Pytorch\t\t    README.md\n"
          ]
        }
      ],
      "source": [
        "!ls"
      ]
    },
    {
      "cell_type": "code",
      "execution_count": 12,
      "metadata": {
        "id": "zRY85IqCIm77"
      },
      "outputs": [],
      "source": [
        "import os\n",
        "import sys\n",
        "import time\n",
        "import subprocess\n",
        "import re\n",
        "from typing import Dict\n",
        "from collections import OrderedDict\n",
        "import types\n",
        "import argparse\n",
        "\n",
        "import torch\n",
        "import torch.nn as nn\n",
        "import torch.onnx\n",
        "import torch\n",
        "import torch.nn as nn\n",
        "import torch.nn.functional as F\n",
        "import torch.quantization\n",
        "from torch.quantization import quantize_dynamic\n",
        "from torch.utils.data import DataLoader\n",
        "import numpy as np\n",
        "import tvm\n",
        "from tvm import relay, auto_scheduler\n",
        "from tvm.contrib import graph_executor\n",
        "import tvm.relay.testing\n",
        "import onnx\n",
        "from tvm import autotvm\n",
        "import matplotlib.pyplot as plt\n",
        "\n",
        "\n",
        "sys.path.append('/content/LPRNet_Pytorch')  # Add project path\n",
        "os.chdir('/content/LPRNet_Pytorch')         # Set working directory\n",
        "from data.load_data import LPRDataLoader, CHARS, CHARS_DICT\n",
        "from model.LPRNet import LPRNet, build_lprnet\n",
        "\n",
        "import importlib\n",
        "importlib.invalidate_caches()\n"
      ]
    },
    {
      "cell_type": "code",
      "source": [
        "test_accuracies = {}\n",
        "inference_times = {}\n",
        "model_sizes_onnx = {}\n",
        "model_size_nonzero_parms = {}"
      ],
      "metadata": {
        "id": "w1_lukNsXhpd"
      },
      "execution_count": 13,
      "outputs": []
    },
    {
      "cell_type": "markdown",
      "metadata": {
        "id": "7VWvXY3ZKN1J"
      },
      "source": [
        "### **3 Loading the pre-trained model**"
      ]
    },
    {
      "cell_type": "code",
      "execution_count": 14,
      "metadata": {
        "id": "uwGfvz-4IxZ1"
      },
      "outputs": [],
      "source": [
        "def initialize_model(pretrained_path):\n",
        "    model = LPRNet(lpr_max_len=8, phase=False, class_num=68, dropout_rate=0.5)\n",
        "    checkpoint = torch.load(pretrained_path, map_location=torch.device('cpu'))\n",
        "    if 'state_dict' in checkpoint:\n",
        "        model.load_state_dict(checkpoint['state_dict'])\n",
        "    elif 'lprnet' in checkpoint:\n",
        "        model.load_state_dict(checkpoint['lprnet'])\n",
        "    else:\n",
        "        model.load_state_dict(checkpoint)\n",
        "    model.eval()\n",
        "    return model\n",
        "\n",
        "pretrained_model_path = './Final_LPRNet_model.pth'"
      ]
    },
    {
      "cell_type": "code",
      "source": [
        "sys.argv = [sys.argv[0]] + sys.argv[3:]\n",
        "\n",
        "def parse_arguments():\n",
        "    parser = argparse.ArgumentParser(description=\"LPRNet Testing Parameters\")\n",
        "    parser.add_argument(\"--image_size\", default=[94, 24], type=list, help=\"Size of input images\")\n",
        "    parser.add_argument(\"--test_image_dir\", default=\"./data/test\", type=str, help=\"Directory for test images\")\n",
        "    parser.add_argument(\"--dropout\", default=0.0, type=float, help=\"Dropout rate for the model\")\n",
        "    parser.add_argument(\"--max_plate_length\", default=8, type=int, help=\"Maximum length of license plate number\")\n",
        "    parser.add_argument(\"--batch_size\", default=100, type=int, help=\"Batch size for testing\")\n",
        "    parser.add_argument(\"--train_phase\", default=False, type=bool, help=\"Flag for training or testing phase\")\n",
        "    parser.add_argument(\"--num_workers\", default=2, type=int, help=\"Number of data loading workers\")\n",
        "    parser.add_argument(\"--use_cuda\", default=False, type=bool, help=\"Use CUDA for computation\")\n",
        "    parser.add_argument(\"--visualize\", default=False, type=bool, help=\"Visualize test results\")\n",
        "    parser.add_argument(\"--model_checkpoint\", default=\"./weights/Final_LPRNet_model.pth\", help=\"Path to model checkpoint\")\n",
        "    return parser.parse_args()\n"
      ],
      "metadata": {
        "id": "lk7bhTP6Lavp"
      },
      "execution_count": 15,
      "outputs": []
    },
    {
      "cell_type": "code",
      "execution_count": 16,
      "metadata": {
        "colab": {
          "base_uri": "https://localhost:8080/"
        },
        "id": "RnUHqnjZKrUu",
        "outputId": "1984db7b-e353-4916-bb6e-74e6b70b0306"
      },
      "outputs": [
        {
          "output_type": "stream",
          "name": "stdout",
          "text": [
            "Pretrained LPRNet successfully loaded!\n",
            "\n",
            "Model Architecture:\n",
            "LPRNet(\n",
            "  (backbone): Sequential(\n",
            "    (0): Conv2d(3, 64, kernel_size=(3, 3), stride=(1, 1))\n",
            "    (1): BatchNorm2d(64, eps=1e-05, momentum=0.1, affine=True, track_running_stats=True)\n",
            "    (2): ReLU()\n",
            "    (3): MaxPool3d(kernel_size=(1, 3, 3), stride=(1, 1, 1), padding=0, dilation=1, ceil_mode=False)\n",
            "    (4): small_basic_block(\n",
            "      (block): Sequential(\n",
            "        (0): Conv2d(64, 32, kernel_size=(1, 1), stride=(1, 1))\n",
            "        (1): ReLU()\n",
            "        (2): Conv2d(32, 32, kernel_size=(3, 1), stride=(1, 1), padding=(1, 0))\n",
            "        (3): ReLU()\n",
            "        (4): Conv2d(32, 32, kernel_size=(1, 3), stride=(1, 1), padding=(0, 1))\n",
            "        (5): ReLU()\n",
            "        (6): Conv2d(32, 128, kernel_size=(1, 1), stride=(1, 1))\n",
            "      )\n",
            "    )\n",
            "    (5): BatchNorm2d(128, eps=1e-05, momentum=0.1, affine=True, track_running_stats=True)\n",
            "    (6): ReLU()\n",
            "    (7): MaxPool3d(kernel_size=(1, 3, 3), stride=(2, 1, 2), padding=0, dilation=1, ceil_mode=False)\n",
            "    (8): small_basic_block(\n",
            "      (block): Sequential(\n",
            "        (0): Conv2d(64, 64, kernel_size=(1, 1), stride=(1, 1))\n",
            "        (1): ReLU()\n",
            "        (2): Conv2d(64, 64, kernel_size=(3, 1), stride=(1, 1), padding=(1, 0))\n",
            "        (3): ReLU()\n",
            "        (4): Conv2d(64, 64, kernel_size=(1, 3), stride=(1, 1), padding=(0, 1))\n",
            "        (5): ReLU()\n",
            "        (6): Conv2d(64, 256, kernel_size=(1, 1), stride=(1, 1))\n",
            "      )\n",
            "    )\n",
            "    (9): BatchNorm2d(256, eps=1e-05, momentum=0.1, affine=True, track_running_stats=True)\n",
            "    (10): ReLU()\n",
            "    (11): small_basic_block(\n",
            "      (block): Sequential(\n",
            "        (0): Conv2d(256, 64, kernel_size=(1, 1), stride=(1, 1))\n",
            "        (1): ReLU()\n",
            "        (2): Conv2d(64, 64, kernel_size=(3, 1), stride=(1, 1), padding=(1, 0))\n",
            "        (3): ReLU()\n",
            "        (4): Conv2d(64, 64, kernel_size=(1, 3), stride=(1, 1), padding=(0, 1))\n",
            "        (5): ReLU()\n",
            "        (6): Conv2d(64, 256, kernel_size=(1, 1), stride=(1, 1))\n",
            "      )\n",
            "    )\n",
            "    (12): BatchNorm2d(256, eps=1e-05, momentum=0.1, affine=True, track_running_stats=True)\n",
            "    (13): ReLU()\n",
            "    (14): MaxPool3d(kernel_size=(1, 3, 3), stride=(4, 1, 2), padding=0, dilation=1, ceil_mode=False)\n",
            "    (15): Dropout(p=0.5, inplace=False)\n",
            "    (16): Conv2d(64, 256, kernel_size=(1, 4), stride=(1, 1))\n",
            "    (17): BatchNorm2d(256, eps=1e-05, momentum=0.1, affine=True, track_running_stats=True)\n",
            "    (18): ReLU()\n",
            "    (19): Dropout(p=0.5, inplace=False)\n",
            "    (20): Conv2d(256, 68, kernel_size=(13, 1), stride=(1, 1))\n",
            "    (21): BatchNorm2d(68, eps=1e-05, momentum=0.1, affine=True, track_running_stats=True)\n",
            "    (22): ReLU()\n",
            "  )\n",
            "  (container): Sequential(\n",
            "    (0): Conv2d(516, 68, kernel_size=(1, 1), stride=(1, 1))\n",
            "  )\n",
            ")\n"
          ]
        },
        {
          "output_type": "stream",
          "name": "stderr",
          "text": [
            "<ipython-input-14-0999317addba>:3: FutureWarning: You are using `torch.load` with `weights_only=False` (the current default value), which uses the default pickle module implicitly. It is possible to construct malicious pickle data which will execute arbitrary code during unpickling (See https://github.com/pytorch/pytorch/blob/main/SECURITY.md#untrusted-models for more details). In a future release, the default value for `weights_only` will be flipped to `True`. This limits the functions that could be executed during unpickling. Arbitrary objects will no longer be allowed to be loaded via this mode unless they are explicitly allowlisted by the user via `torch.serialization.add_safe_globals`. We recommend you start setting `weights_only=True` for any use case where you don't have full control of the loaded file. Please open an issue on GitHub for any issues related to this experimental feature.\n",
            "  checkpoint = torch.load(pretrained_path, map_location=torch.device('cpu'))\n"
          ]
        }
      ],
      "source": [
        "# Load the pretrained model\n",
        "lprnet = initialize_model(pretrained_model_path)\n",
        "print(\"Pretrained LPRNet successfully loaded!\")\n",
        "print(\"\\nModel Architecture:\")\n",
        "print(lprnet)"
      ]
    },
    {
      "cell_type": "code",
      "execution_count": 17,
      "metadata": {
        "id": "FPdDtsOIWN6C"
      },
      "outputs": [],
      "source": [
        "def measure_inference_time(model, input_tensor, num_iterations=100):\n",
        "    model.eval()\n",
        "    start_time = time.time()\n",
        "    with torch.no_grad():\n",
        "        for _ in range(num_iterations):\n",
        "            _ = model(input_tensor)\n",
        "    end_time = time.time()\n",
        "    total_time = (end_time - start_time) * 1000\n",
        "    return total_time/ num_iterations"
      ]
    },
    {
      "cell_type": "code",
      "source": [
        "def export_to_onnx(model, output_path):\n",
        "    dummy_input = torch.randn(1, 3, 24, 94)\n",
        "    torch.onnx.export(model, dummy_input, output_path, input_names=['input'], output_names=['output'])\n",
        "    file_size = os.path.getsize(output_path) / 1024  # Size in KB\n",
        "    print(f\"Exported pruned model to {output_path}\")\n",
        "    print(f\"Pruned model size: {file_size:.2f} KB\")\n",
        "    return file_size"
      ],
      "metadata": {
        "id": "tGBfezN7MNmQ"
      },
      "execution_count": 18,
      "outputs": []
    },
    {
      "cell_type": "code",
      "execution_count": 19,
      "metadata": {
        "id": "xBzaG9MSKv1_"
      },
      "outputs": [],
      "source": [
        "def collate_fn(batch):\n",
        "    images, labels = [], []\n",
        "    for image, label in batch:\n",
        "        if label.numel() > 0:  # Check if label is not empty\n",
        "            images.append(image)\n",
        "            labels.append(label)\n",
        "    return torch.stack(images), labels\n",
        "\n",
        "\n",
        "# Load test dataset\n",
        "test_dataset = LPRDataLoader(img_dir='/content/LPRNet_Pytorch/data/test',\n",
        "                             imgSize=(94, 24),\n",
        "                             lpr_max_len=8)\n",
        "\n",
        "test_loader = DataLoader(test_dataset, batch_size=32, shuffle=False, num_workers=2, collate_fn = collate_fn)"
      ]
    },
    {
      "cell_type": "code",
      "execution_count": 20,
      "metadata": {
        "colab": {
          "base_uri": "https://localhost:8080/"
        },
        "id": "dPqwONbvMvuN",
        "outputId": "cb25bd3c-7d19-424c-dc6a-4ae8b4695736"
      },
      "outputs": [
        {
          "output_type": "stream",
          "name": "stdout",
          "text": [
            "Exported pruned model to original_model_size.onnx\n",
            "Pruned model size: 1747.25 KB\n",
            "Testing the original LPRNet model...\n",
            "Successful to build network!\n",
            "load pretrained model successful!\n",
            "[Info] Test Accuracy: 0.898 [898:59:43:1000]\n",
            "[Info] Test Speed: 0.0008252089023590088s 1/1000]\n",
            "\n",
            "Accuracy of the original model: 0.8980\n"
          ]
        }
      ],
      "source": [
        "def test_model(pretrained_model_path):\n",
        "    test_command = (\n",
        "        f\"python test_LPRNet.py --test_img_dirs /content/LPRNet_Pytorch/data/test \"\n",
        "        f\"--pretrained_model {pretrained_model_path}\"\n",
        "    )\n",
        "\n",
        "    process = subprocess.run(test_command, shell=True, capture_output=True, text=True)\n",
        "    print(process.stdout)\n",
        "\n",
        "    match = re.search(r\"Accuracy: ([\\d.]+)\", process.stdout)\n",
        "    if match:\n",
        "        return float(match.group(1))\n",
        "    else:\n",
        "        print(\"Could not find accuracy in the script output.\")\n",
        "        return None\n",
        "\n",
        "\n",
        "model_path = '/content/LPRNet_Pytorch/Final_LPRNet_model.pth'\n",
        "\n",
        "original_model = LPRNet(lpr_max_len=8, phase=False, class_num=68, dropout_rate=0.5)\n",
        "\n",
        "original_model_size = export_to_onnx(original_model, \"original_model_size.onnx\")\n",
        "model_sizes_onnx[\"Original Model\"] = original_model_size\n",
        "\n",
        "# Evaluate the original model\n",
        "print(\"Testing the original LPRNet model...\")\n",
        "accuracy = test_model(model_path)\n",
        "\n",
        "\n",
        "if accuracy is not None:\n",
        "    print(f\"Accuracy of the original model: {accuracy:.4f}\")\n",
        "    test_accuracies[\"Original Model Accuracy\"] = accuracy\n",
        "else:\n",
        "    print(\"Model evaluation did not return an accuracy value.\")"
      ]
    },
    {
      "cell_type": "markdown",
      "metadata": {
        "id": "5-udlmRP6y5q"
      },
      "source": [
        "### **4. Pruning (Model Optimization-1)**"
      ]
    },
    {
      "cell_type": "code",
      "execution_count": 21,
      "metadata": {
        "id": "GPZEcmAL58nn"
      },
      "outputs": [],
      "source": [
        "def fine_grained_prune(tensor: torch.Tensor, sparsity: float) -> torch.Tensor:\n",
        "    sparsity = min(max(0.0, sparsity), 1.0)\n",
        "    if sparsity == 1.0:\n",
        "        tensor.zero_()\n",
        "        return torch.zeros_like(tensor)\n",
        "    elif sparsity == 0.0:\n",
        "        return torch.ones_like(tensor)\n",
        "\n",
        "    num_elements = tensor.numel()\n",
        "    num_zeros = round(num_elements * sparsity)\n",
        "    importance = tensor.abs()\n",
        "    threshold = importance.view(-1).kthvalue(num_zeros).values\n",
        "    mask = torch.gt(importance, threshold)\n",
        "    tensor.mul_(mask)\n",
        "    return mask"
      ]
    },
    {
      "cell_type": "code",
      "execution_count": 22,
      "metadata": {
        "id": "HZ_mTXkl5-Kx"
      },
      "outputs": [],
      "source": [
        "class FineGrainedPruner:\n",
        "    \"\"\"\n",
        "    Prunes the given model based on specified sparsity for each parameter.\n",
        "    \"\"\"\n",
        "    def __init__(self, model, sparsity_dict: Dict[str, float]):\n",
        "        self.masks = FineGrainedPruner.prune(model, sparsity_dict)\n",
        "\n",
        "    @torch.no_grad()\n",
        "    def apply(self, model):\n",
        "        for name, param in model.named_parameters():\n",
        "            if name in self.masks:\n",
        "                param.mul_(self.masks[name])\n",
        "\n",
        "    @staticmethod\n",
        "    @torch.no_grad()\n",
        "    def prune(model, sparsity_dict: Dict[str, float]):\n",
        "        masks = OrderedDict()\n",
        "        for name, param in model.named_parameters():\n",
        "            if param.dim() > 1:  # Only prune weights with more than one dimension (conv/fc layers)\n",
        "                sparsity = sparsity_dict.get(name, 0.0)\n",
        "                masks[name] = fine_grained_prune(param, sparsity)\n",
        "        return masks"
      ]
    },
    {
      "cell_type": "code",
      "execution_count": 23,
      "metadata": {
        "id": "2ELs6q9b6Ot3"
      },
      "outputs": [],
      "source": [
        "def initialize_model(pretrained_path):\n",
        "    model = LPRNet(lpr_max_len=8, phase=False, class_num=68, dropout_rate=0.5)\n",
        "    checkpoint = torch.load(pretrained_path, map_location=torch.device('cpu'))\n",
        "    if 'state_dict' in checkpoint:\n",
        "        model.load_state_dict(checkpoint['state_dict'])\n",
        "    elif 'lprnet' in checkpoint:\n",
        "        model.load_state_dict(checkpoint['lprnet'])\n",
        "    else:\n",
        "        model.load_state_dict(checkpoint)\n",
        "    model.eval()\n",
        "    return model"
      ]
    },
    {
      "cell_type": "code",
      "source": [
        "# Function to test the model using an external script\n",
        "def test_model(pretrained_model_path):\n",
        "    test_command = (\n",
        "        f\"python test_LPRNet.py --test_img_dirs /content/LPRNet_Pytorch/data/test \"\n",
        "        f\"--pretrained_model {pretrained_model_path}\"\n",
        "    )\n",
        "    process = subprocess.run(test_command, shell=True, capture_output=True, text=True)\n",
        "    print(process.stdout)\n",
        "    match = re.search(r\"Accuracy: ([\\d.]+)\", process.stdout)\n",
        "    return float(match.group(1)) if match else None"
      ],
      "metadata": {
        "id": "QgJrEh1uN0DI"
      },
      "execution_count": 24,
      "outputs": []
    },
    {
      "cell_type": "code",
      "source": [
        "def get_model_sparsity(model):\n",
        "    total_elements = 0\n",
        "    total_zeros = 0\n",
        "    for name, param in model.named_parameters():\n",
        "        if param.requires_grad and param.dim() > 1:  # Only consider trainable parameters\n",
        "            total_elements += param.numel()\n",
        "            total_zeros += param.numel() - param.count_nonzero().item()\n",
        "            print(f\"{name}: Sparsity = {(1 - param.count_nonzero().item() / param.numel()) * 100:.2f}%\")\n",
        "    overall_sparsity = (total_zeros / total_elements) * 100\n",
        "    print(f\"Overall Model Sparsity: {overall_sparsity:.2f}%\")\n",
        "    return overall_sparsity"
      ],
      "metadata": {
        "id": "MsaDB_1pN2Ky"
      },
      "execution_count": 25,
      "outputs": []
    },
    {
      "cell_type": "code",
      "source": [
        "def get_model_size(model):\n",
        "    num_nonzeros = sum(param.count_nonzero().item() for param in model.parameters())\n",
        "    print(f\"Number of Non-Zero Parameters: {num_nonzeros}\")\n",
        "    return num_nonzeros"
      ],
      "metadata": {
        "id": "nFD12ADXN2RW"
      },
      "execution_count": 26,
      "outputs": []
    },
    {
      "cell_type": "code",
      "source": [
        "def count_non_zero_params(model):\n",
        "    non_zero_params = 0\n",
        "    for param in model.parameters():\n",
        "        non_zero_params += torch.count_nonzero(param).item()  # Count non-zero elements in the parameter\n",
        "    return non_zero_params"
      ],
      "metadata": {
        "id": "95o86UioZTGM"
      },
      "execution_count": 27,
      "outputs": []
    },
    {
      "cell_type": "code",
      "execution_count": 28,
      "metadata": {
        "colab": {
          "base_uri": "https://localhost:8080/"
        },
        "id": "sRPyF-y5imUG",
        "outputId": "8192ff78-f395-44ff-d01c-eef81bf6a38f"
      },
      "outputs": [
        {
          "output_type": "stream",
          "name": "stdout",
          "text": [
            "Pretrained LPRNet successfully loaded!\n",
            "\n",
            "Model Architecture:\n",
            "LPRNet(\n",
            "  (backbone): Sequential(\n",
            "    (0): Conv2d(3, 64, kernel_size=(3, 3), stride=(1, 1))\n",
            "    (1): BatchNorm2d(64, eps=1e-05, momentum=0.1, affine=True, track_running_stats=True)\n",
            "    (2): ReLU()\n",
            "    (3): MaxPool3d(kernel_size=(1, 3, 3), stride=(1, 1, 1), padding=0, dilation=1, ceil_mode=False)\n",
            "    (4): small_basic_block(\n",
            "      (block): Sequential(\n",
            "        (0): Conv2d(64, 32, kernel_size=(1, 1), stride=(1, 1))\n",
            "        (1): ReLU()\n",
            "        (2): Conv2d(32, 32, kernel_size=(3, 1), stride=(1, 1), padding=(1, 0))\n",
            "        (3): ReLU()\n",
            "        (4): Conv2d(32, 32, kernel_size=(1, 3), stride=(1, 1), padding=(0, 1))\n",
            "        (5): ReLU()\n",
            "        (6): Conv2d(32, 128, kernel_size=(1, 1), stride=(1, 1))\n",
            "      )\n",
            "    )\n",
            "    (5): BatchNorm2d(128, eps=1e-05, momentum=0.1, affine=True, track_running_stats=True)\n",
            "    (6): ReLU()\n",
            "    (7): MaxPool3d(kernel_size=(1, 3, 3), stride=(2, 1, 2), padding=0, dilation=1, ceil_mode=False)\n",
            "    (8): small_basic_block(\n",
            "      (block): Sequential(\n",
            "        (0): Conv2d(64, 64, kernel_size=(1, 1), stride=(1, 1))\n",
            "        (1): ReLU()\n",
            "        (2): Conv2d(64, 64, kernel_size=(3, 1), stride=(1, 1), padding=(1, 0))\n",
            "        (3): ReLU()\n",
            "        (4): Conv2d(64, 64, kernel_size=(1, 3), stride=(1, 1), padding=(0, 1))\n",
            "        (5): ReLU()\n",
            "        (6): Conv2d(64, 256, kernel_size=(1, 1), stride=(1, 1))\n",
            "      )\n",
            "    )\n",
            "    (9): BatchNorm2d(256, eps=1e-05, momentum=0.1, affine=True, track_running_stats=True)\n",
            "    (10): ReLU()\n",
            "    (11): small_basic_block(\n",
            "      (block): Sequential(\n",
            "        (0): Conv2d(256, 64, kernel_size=(1, 1), stride=(1, 1))\n",
            "        (1): ReLU()\n",
            "        (2): Conv2d(64, 64, kernel_size=(3, 1), stride=(1, 1), padding=(1, 0))\n",
            "        (3): ReLU()\n",
            "        (4): Conv2d(64, 64, kernel_size=(1, 3), stride=(1, 1), padding=(0, 1))\n",
            "        (5): ReLU()\n",
            "        (6): Conv2d(64, 256, kernel_size=(1, 1), stride=(1, 1))\n",
            "      )\n",
            "    )\n",
            "    (12): BatchNorm2d(256, eps=1e-05, momentum=0.1, affine=True, track_running_stats=True)\n",
            "    (13): ReLU()\n",
            "    (14): MaxPool3d(kernel_size=(1, 3, 3), stride=(4, 1, 2), padding=0, dilation=1, ceil_mode=False)\n",
            "    (15): Dropout(p=0.5, inplace=False)\n",
            "    (16): Conv2d(64, 256, kernel_size=(1, 4), stride=(1, 1))\n",
            "    (17): BatchNorm2d(256, eps=1e-05, momentum=0.1, affine=True, track_running_stats=True)\n",
            "    (18): ReLU()\n",
            "    (19): Dropout(p=0.5, inplace=False)\n",
            "    (20): Conv2d(256, 68, kernel_size=(13, 1), stride=(1, 1))\n",
            "    (21): BatchNorm2d(68, eps=1e-05, momentum=0.1, affine=True, track_running_stats=True)\n",
            "    (22): ReLU()\n",
            "  )\n",
            "  (container): Sequential(\n",
            "    (0): Conv2d(516, 68, kernel_size=(1, 1), stride=(1, 1))\n",
            "  )\n",
            ")\n"
          ]
        },
        {
          "output_type": "stream",
          "name": "stderr",
          "text": [
            "<ipython-input-23-f9b33ad91f67>:3: FutureWarning: You are using `torch.load` with `weights_only=False` (the current default value), which uses the default pickle module implicitly. It is possible to construct malicious pickle data which will execute arbitrary code during unpickling (See https://github.com/pytorch/pytorch/blob/main/SECURITY.md#untrusted-models for more details). In a future release, the default value for `weights_only` will be flipped to `True`. This limits the functions that could be executed during unpickling. Arbitrary objects will no longer be allowed to be loaded via this mode unless they are explicitly allowlisted by the user via `torch.serialization.add_safe_globals`. We recommend you start setting `weights_only=True` for any use case where you don't have full control of the loaded file. Please open an issue on GitHub for any issues related to this experimental feature.\n",
            "  checkpoint = torch.load(pretrained_path, map_location=torch.device('cpu'))\n"
          ]
        },
        {
          "output_type": "stream",
          "name": "stdout",
          "text": [
            "Inference time of the original model: 195.74 ms\n",
            "Model size before pruning:\n",
            "Number of Non-Zero Parameters: 446975\n",
            "Applying pruning...\n",
            "Pruning applied successfully!\n",
            "Model size after pruning:\n",
            "Number of Non-Zero Parameters: 225301\n",
            "Exported pruned model to pruned_model_size.onnx\n",
            "Pruned model size: 1747.25 KB\n",
            "Inference time of the pruned model: 109.12 ms\n",
            "Testing the pruned LPRNet model...\n",
            "Successful to build network!\n",
            "load pretrained model successful!\n",
            "[Info] Test Accuracy: 0.9 [900:60:40:1000]\n",
            "[Info] Test Speed: 0.0010587525367736815s 1/1000]\n",
            "\n",
            "Accuracy of the pruned model: 0.9000\n"
          ]
        }
      ],
      "source": [
        "# Main script\n",
        "if __name__ == \"__main__\":\n",
        "    pretrained_model_path = './Final_LPRNet_model.pth'\n",
        "\n",
        "    lprnet = initialize_model(pretrained_model_path)\n",
        "    print(\"Pretrained LPRNet successfully loaded!\")\n",
        "\n",
        "    print(\"\\nModel Architecture:\")\n",
        "    print(lprnet)\n",
        "\n",
        "    dummy_input = torch.randn(1, 3, 24, 94)\n",
        "    original_inference_time = measure_inference_time(lprnet, dummy_input)\n",
        "\n",
        "    print(f\"Inference time of the original model: {original_inference_time:.2f} ms\")\n",
        "    inference_times[\"Original Model Inference Time\"] = original_inference_time\n",
        "    model_size_nonzero_parms[\"Original Model Non-Zero Parameters\"] = count_non_zero_params(lprnet)\n",
        "\n",
        "    print(\"Model size before pruning:\")\n",
        "    original_size = get_model_size(lprnet)\n",
        "\n",
        "    # Define sparsity for pruning\n",
        "    sparsity_dict = {name: 0.50 for name, param in lprnet.named_parameters() if param.dim() > 1}  # 75% sparsity\n",
        "\n",
        "    # Apply pruning\n",
        "    print(\"Applying pruning...\")\n",
        "    pruner = FineGrainedPruner(lprnet, sparsity_dict)\n",
        "    pruner.apply(lprnet)\n",
        "    print(\"Pruning applied successfully!\")\n",
        "\n",
        "    print(\"Model size after pruning:\")\n",
        "    pruned_size = get_model_size(lprnet)\n",
        "\n",
        "\n",
        "\n",
        "\n",
        "    # Export pruned model to ONNX\n",
        "    pruned_model_size = export_to_onnx(lprnet, \"pruned_model_size.onnx\")\n",
        "    model_sizes_onnx[\"Pruned Model Size (ONNX)\"] = pruned_model_size\n",
        "    model_size_nonzero_parms[\"Pruned Model Non-Zero Parameters\"] = count_non_zero_params(lprnet)\n",
        "\n",
        "    pruned_inference_time = measure_inference_time(lprnet, dummy_input)\n",
        "    inference_times[\"Pruned Model Inference Time\"] = pruned_inference_time\n",
        "    print(f\"Inference time of the pruned model: {pruned_inference_time:.2f} ms\")\n",
        "\n",
        "    print(\"Testing the pruned LPRNet model...\")\n",
        "    accuracy = test_model(pretrained_model_path)\n",
        "    if accuracy is not None:\n",
        "        print(f\"Accuracy of the pruned model: {accuracy:.4f}\")\n",
        "        test_accuracies[\"Pruned Model Accuracy\"] = accuracy\n",
        "    else:\n",
        "        print(\"Model evaluation did not return an accuracy value.\")"
      ]
    },
    {
      "cell_type": "markdown",
      "metadata": {
        "id": "Z73PJOtWEvrf"
      },
      "source": [
        "### **5. Quantization (Model Optimization-2)**"
      ]
    },
    {
      "cell_type": "code",
      "execution_count": 29,
      "metadata": {
        "id": "jvYG2zvmEu5h"
      },
      "outputs": [],
      "source": [
        "#Quantization Function\n",
        "def apply_dynamic_quantization(model):\n",
        "    quantized_model = torch.quantization.quantize_dynamic(\n",
        "        model,\n",
        "        {torch.nn.Linear, torch.nn.Conv2d, torch.nn.BatchNorm2d, torch.nn.ReLU},\n",
        "        dtype=torch.qint8\n",
        "    )\n",
        "    return quantized_model"
      ]
    },
    {
      "cell_type": "code",
      "source": [
        "# Main script\n",
        "if __name__ == \"__main__\":\n",
        "    pruner = FineGrainedPruner(lprnet, sparsity_dict)\n",
        "    pruner.apply(lprnet)\n",
        "\n",
        "    pruned_inference_time = measure_inference_time(lprnet, dummy_input)\n",
        "    print(f\"Inference time of the pruned model: {pruned_inference_time:.2f} ms\")\n",
        "\n",
        "    # Apply quantization to the pruned model\n",
        "    print(\"Applying quantization to the pruned model...\")\n",
        "    quantized_model = apply_dynamic_quantization(lprnet)\n",
        "    print(\"Quantization applied successfully!\")\n",
        "\n",
        "    print(\"Model size after quantization:\")\n",
        "    quantized_size = get_model_size(quantized_model)\n",
        "    model_size_nonzero_parms[\"Quantized Model Non-Zero Parameters\"] = count_non_zero_params(quantized_model)\n",
        "\n",
        "    quantized_model_size = export_to_onnx(quantized_model, \"quantized_model_size.onnx\")\n",
        "    model_sizes_onnx[\"Quantized Model Size (ONNX)\"] = quantized_model_size\n",
        "\n",
        "    quantized_inference_time = measure_inference_time(quantized_model, dummy_input)\n",
        "    print(f\"Inference time of the quantized model: {quantized_inference_time:.2f} ms\")\n",
        "    inference_times[\"Quantized Model Inference Time\"] = quantized_inference_time\n",
        "\n",
        "    # Calculate the speedup\n",
        "    speedup = pruned_inference_time / quantized_inference_time\n",
        "    print(f\"Speedup after quantization: {speedup:.2f}x\")\n",
        "\n",
        "    # Test the quantized model\n",
        "    print(\"Testing the quantized LPRNet model...\")\n",
        "\n",
        "    quantized_model_path = './quantized_pruned_LPRNet_model.pth'\n",
        "    torch.save(quantized_model.state_dict(), quantized_model_path)\n",
        "\n",
        "    accuracy = test_model(quantized_model_path)\n",
        "    if accuracy is not None:\n",
        "        print(f\"Accuracy of the quantized pruned model: {accuracy:.4f}\")\n",
        "        test_accuracies[\"Quantized Pruned Model Accuracy\"] = accuracy\n",
        "    else:\n",
        "        print(\"Model evaluation did not return an accuracy value.\")\n",
        "\n",
        "    print(\"\\nSparsity of the quantized model:\")\n",
        "    get_model_sparsity(quantized_model)"
      ],
      "metadata": {
        "colab": {
          "base_uri": "https://localhost:8080/"
        },
        "id": "BcIyl5M2QfQs",
        "outputId": "77f33a2e-f551-4ae0-9286-c2787642c0f3"
      },
      "execution_count": 30,
      "outputs": [
        {
          "output_type": "stream",
          "name": "stdout",
          "text": [
            "Inference time of the pruned model: 105.53 ms\n",
            "Applying quantization to the pruned model...\n",
            "Quantization applied successfully!\n",
            "Model size after quantization:\n",
            "Number of Non-Zero Parameters: 225301\n",
            "Exported pruned model to quantized_model_size.onnx\n",
            "Pruned model size: 1747.25 KB\n",
            "Inference time of the quantized model: 107.98 ms\n",
            "Speedup after quantization: 0.98x\n",
            "Testing the quantized LPRNet model...\n",
            "Successful to build network!\n",
            "load pretrained model successful!\n",
            "[Info] Test Accuracy: 0.826 [826:98:76:1000]\n",
            "[Info] Test Speed: 0.0010753793716430664s 1/1000]\n",
            "\n",
            "Accuracy of the quantized pruned model: 0.8260\n",
            "\n",
            "Sparsity of the quantized model:\n",
            "backbone.0.weight: Sparsity = 50.00%\n",
            "backbone.4.block.0.weight: Sparsity = 50.00%\n",
            "backbone.4.block.2.weight: Sparsity = 50.00%\n",
            "backbone.4.block.4.weight: Sparsity = 50.00%\n",
            "backbone.4.block.6.weight: Sparsity = 50.00%\n",
            "backbone.8.block.0.weight: Sparsity = 50.00%\n",
            "backbone.8.block.2.weight: Sparsity = 50.00%\n",
            "backbone.8.block.4.weight: Sparsity = 50.00%\n",
            "backbone.8.block.6.weight: Sparsity = 50.01%\n",
            "backbone.11.block.0.weight: Sparsity = 50.00%\n",
            "backbone.11.block.2.weight: Sparsity = 50.00%\n",
            "backbone.11.block.4.weight: Sparsity = 50.00%\n",
            "backbone.11.block.6.weight: Sparsity = 50.00%\n",
            "backbone.16.weight: Sparsity = 50.00%\n",
            "backbone.20.weight: Sparsity = 50.00%\n",
            "container.0.weight: Sparsity = 50.00%\n",
            "Overall Model Sparsity: 50.00%\n"
          ]
        }
      ]
    },
    {
      "cell_type": "markdown",
      "metadata": {
        "id": "hPGEd0_Ys5-T"
      },
      "source": [
        "### **6. MLC Optimizations**"
      ]
    },
    {
      "cell_type": "code",
      "source": [
        "# Function to batch collate for the data loader\n",
        "def batch_collate(batch):\n",
        "    images, labels, lengths = [], [], []\n",
        "    for sample in batch:\n",
        "        img, label, length = sample\n",
        "        images.append(torch.from_numpy(img))\n",
        "        labels.extend(label)\n",
        "        lengths.append(length)\n",
        "    label_array = np.asarray(labels, dtype=np.float32).flatten()\n",
        "    return torch.stack(images, 0), torch.from_numpy(label_array), lengths"
      ],
      "metadata": {
        "id": "2j3gMBYxVitF"
      },
      "execution_count": 31,
      "outputs": []
    },
    {
      "cell_type": "code",
      "source": [
        "# Function to export the model to ONNX and perform MLC optimization\n",
        "def compile_with_tvm_onnx(model, input_shape, num_trials=50):\n",
        "    onnx_path = \"Final_tvm_lprnet.onnx\"\n",
        "\n",
        "    # Export to ONNX\n",
        "    device = torch.device(\"cuda\" if torch.cuda.is_available() else \"cpu\")\n",
        "    quantized_model.to(device)\n",
        "    sample_input = torch.randn(input_shape, device=device)\n",
        "    torch.onnx.export(\n",
        "        quantized_model, sample_input, onnx_path,\n",
        "        input_names=[\"input\"], output_names=[\"output\"],\n",
        "        dynamic_axes={\"input\": {0: \"batch_size\"}, \"output\": {0: \"batch_size\"}}\n",
        "    )\n",
        "    print(f\"Exported model to ONNX: {onnx_path}\")\n",
        "\n",
        "    # Load ONNX model into TVM\n",
        "    onnx_model = onnx.load(onnx_path)\n",
        "    input_name = onnx_model.graph.input[0].name\n",
        "    mod, params = relay.frontend.from_onnx(onnx_model, shape={input_name: input_shape})\n",
        "\n",
        "    # AutoTVM Tuning\n",
        "    target = tvm.target.cuda() if tvm.cuda().exist else tvm.target.Target(\"llvm\")\n",
        "    log_file = \"tuning.log\"\n",
        "    tasks = autotvm.task.extract_from_program(mod[\"main\"], target=target, params=params)\n",
        "\n",
        "    print(\"Starting AutoTVM tuning...\")\n",
        "    for i, task in enumerate(tasks[:3]):  # Limiting tasks for Colab\n",
        "        print(f\"Tuning task {i + 1}/{len(tasks)}: {task.name}\")\n",
        "        tuner = autotvm.tuner.XGBTuner(task)\n",
        "        tuning_options = {\n",
        "            \"n_trial\": num_trials,\n",
        "            \"measure_option\": autotvm.measure_option(\n",
        "                builder=autotvm.LocalBuilder(),\n",
        "                runner=autotvm.LocalRunner(repeat=1, min_repeat_ms=300, timeout=10),\n",
        "            ),\n",
        "        }\n",
        "        tuner.tune(**tuning_options, callbacks=[autotvm.callback.log_to_file(log_file)])\n",
        "\n",
        "    print(f\"Tuning completed. Results saved to: {log_file}\")\n",
        "\n",
        "    # Build the optimized model\n",
        "    with autotvm.apply_history_best(log_file):\n",
        "        with tvm.transform.PassContext(opt_level=3):\n",
        "            lib = relay.build(mod, target=target, params=params)\n",
        "\n",
        "    # Create runtime module\n",
        "    dev = tvm.device(str(target), 0)\n",
        "    graph_module = graph_executor.GraphModule(lib[\"default\"](dev))\n",
        "    return graph_module, dev\n",
        "\n"
      ],
      "metadata": {
        "id": "Q-wgtju8VjQ3"
      },
      "execution_count": 32,
      "outputs": []
    },
    {
      "cell_type": "code",
      "source": [
        "# Measure inference time for a given model\n",
        "# Function to measure inference time of the optimized model\n",
        "def measure_tvm_inference_time(tvm_model, device, input_shape, num_trials=10):\n",
        "    dummy_input = np.random.randn(*input_shape).astype(\"float32\")\n",
        "    tvm_model.set_input(\"input\", dummy_input)\n",
        "\n",
        "    # Warmup runs\n",
        "    for _ in range(5):\n",
        "        tvm_model.run()\n",
        "\n",
        "    # Measure inference time\n",
        "    start_time = time.time()\n",
        "    for _ in range(num_trials):\n",
        "        tvm_model.run()\n",
        "    end_time = time.time()\n",
        "\n",
        "    avg_time = (end_time - start_time) / num_trials * 100\n",
        "    return avg_time"
      ],
      "metadata": {
        "id": "gjGFJQNbVlpq"
      },
      "execution_count": 33,
      "outputs": []
    },
    {
      "cell_type": "code",
      "source": [
        "# Perform greedy decoding and evaluate the model\n",
        "def run_greedy_decode(tvm_model, device, dataset, args):\n",
        "    data_loader = DataLoader(dataset, batch_size=args.batch_size, shuffle=True, num_workers=args.num_workers, collate_fn=batch_collate)\n",
        "    num_batches = len(dataset) // args.batch_size\n",
        "\n",
        "    true_positive, mismatch_len, incorrect_predictions = 0, 0, 0\n",
        "    start_time = time.time()\n",
        "\n",
        "    for i, (images, labels, lengths) in enumerate(data_loader):\n",
        "        targets = []\n",
        "        start_idx = 0\n",
        "        for length in lengths:\n",
        "            targets.append(labels[start_idx:start_idx + length])\n",
        "            start_idx += length\n",
        "\n",
        "        tvm_model.set_input(\"input\", images.numpy())\n",
        "        tvm_model.run()\n",
        "        predictions = tvm_model.get_output(0).numpy()\n",
        "\n",
        "        decoded_predictions = decode_predictions(predictions)\n",
        "\n",
        "        for idx, decoded in enumerate(decoded_predictions):\n",
        "            if len(decoded) != len(targets[idx]):\n",
        "                mismatch_len += 1\n",
        "            elif np.array_equal(decoded, targets[idx]):\n",
        "                true_positive += 1\n",
        "            else:\n",
        "                incorrect_predictions += 1\n",
        "\n",
        "    accuracy = true_positive / (true_positive + mismatch_len + incorrect_predictions)\n",
        "    elapsed_time = time.time() - start_time\n",
        "\n",
        "    print(f\"Accuracy: {accuracy:.4f}\")\n",
        "    test_accuracies[\"MLC Optimized Model Accuracy\"] = accuracy\n",
        "    print(f\"Speed: {elapsed_time / len(dataset):.4f} s/image\")"
      ],
      "metadata": {
        "id": "tRzGHzv7kIkc"
      },
      "execution_count": 34,
      "outputs": []
    },
    {
      "cell_type": "code",
      "source": [
        "# Evaluate the model and perform MLC optimization\n",
        "def evaluate_model():\n",
        "    args = parse_arguments()\n",
        "\n",
        "    model = build_lprnet(\n",
        "        lpr_max_len=args.max_plate_length,\n",
        "        phase=args.train_phase,\n",
        "        class_num=len(CHARS),\n",
        "        dropout_rate=args.dropout,\n",
        "    )\n",
        "\n",
        "    if args.model_checkpoint:\n",
        "        model.load_state_dict(torch.load(args.model_checkpoint, map_location=\"cpu\"))\n",
        "        print(\"Loaded model weights successfully.\")\n",
        "    else:\n",
        "        raise FileNotFoundError(\"Model checkpoint not found.\")\n",
        "\n",
        "    # Compile the model with MLC optimization\n",
        "    input_shape = (args.batch_size, 3, 24, 94)\n",
        "    tvm_model, device = compile_with_tvm_onnx(model, input_shape, num_trials=50)\n",
        "    print(\"Model compiled with TVM Auto-scheduler and AutoTVM.\")\n",
        "\n",
        "    # Measure inference time for the AutoTuned model\n",
        "    optimized_inference_time = measure_tvm_inference_time(tvm_model, device, input_shape)\n",
        "    print(f\"Inference time for the MLC optimized AutoTuned model: {optimized_inference_time:.2f} ms\")\n",
        "    inference_times[\"MLC Optimized Model Inference Time (Autotuned)\"] = optimized_inference_time\n",
        "\n",
        "    # Load the dataset and evaluate the optimized model\n",
        "    dataset = LPRDataLoader([args.test_image_dir], args.image_size, args.max_plate_length)\n",
        "    run_greedy_decode(tvm_model, device, dataset, args)"
      ],
      "metadata": {
        "id": "AJww1uxlV0lt"
      },
      "execution_count": 35,
      "outputs": []
    },
    {
      "cell_type": "code",
      "source": [
        "# Decode predictions\n",
        "def decode_predictions(predictions):\n",
        "    decoded = []\n",
        "    for pred in predictions:\n",
        "        pred_labels = [np.argmax(pred[:, j]) for j in range(pred.shape[1])]\n",
        "        no_repeat = []\n",
        "        prev_char = pred_labels[0]\n",
        "\n",
        "        if prev_char != len(CHARS) - 1:\n",
        "            no_repeat.append(prev_char)\n",
        "        for char in pred_labels:\n",
        "            if char != prev_char and char != len(CHARS) - 1:\n",
        "                no_repeat.append(char)\n",
        "            prev_char = char\n",
        "        decoded.append(no_repeat)\n",
        "    return decoded"
      ],
      "metadata": {
        "id": "QWvMVaneV5T0"
      },
      "execution_count": 36,
      "outputs": []
    },
    {
      "cell_type": "code",
      "source": [
        "if __name__ == \"__main__\":\n",
        "    evaluate_model()"
      ],
      "metadata": {
        "colab": {
          "base_uri": "https://localhost:8080/"
        },
        "id": "TlWAqkgYV9H-",
        "outputId": "e0474628-8d15-4e0c-a6f6-1e70c7993b46"
      },
      "execution_count": 37,
      "outputs": [
        {
          "output_type": "stream",
          "name": "stdout",
          "text": [
            "Loaded model weights successfully.\n"
          ]
        },
        {
          "output_type": "stream",
          "name": "stderr",
          "text": [
            "<ipython-input-35-164c342a1f21>:13: FutureWarning: You are using `torch.load` with `weights_only=False` (the current default value), which uses the default pickle module implicitly. It is possible to construct malicious pickle data which will execute arbitrary code during unpickling (See https://github.com/pytorch/pytorch/blob/main/SECURITY.md#untrusted-models for more details). In a future release, the default value for `weights_only` will be flipped to `True`. This limits the functions that could be executed during unpickling. Arbitrary objects will no longer be allowed to be loaded via this mode unless they are explicitly allowlisted by the user via `torch.serialization.add_safe_globals`. We recommend you start setting `weights_only=True` for any use case where you don't have full control of the loaded file. Please open an issue on GitHub for any issues related to this experimental feature.\n",
            "  model.load_state_dict(torch.load(args.model_checkpoint, map_location=\"cpu\"))\n"
          ]
        },
        {
          "output_type": "stream",
          "name": "stdout",
          "text": [
            "Exported model to ONNX: Final_tvm_lprnet.onnx\n",
            "Starting AutoTVM tuning...\n",
            "Tuning task 1/13: conv2d_NCHWc.x86\n",
            "Tuning task 2/13: conv2d_NCHWc.x86\n",
            "Tuning task 3/13: conv2d_NCHWc.x86\n",
            "Tuning completed. Results saved to: tuning.log\n",
            "Model compiled with TVM Auto-scheduler and AutoTVM.\n",
            "Inference time for the MLC optimized AutoTuned model: 323.60 ms\n",
            "Accuracy: 0.8240\n",
            "Speed: 0.0345 s/image\n"
          ]
        }
      ]
    },
    {
      "cell_type": "markdown",
      "source": [
        "### **6. Final Results Summary**"
      ],
      "metadata": {
        "id": "K_uM8AcHWq9T"
      }
    },
    {
      "cell_type": "code",
      "source": [
        "print(test_accuracies)\n",
        "print(model_sizes_onnx)\n",
        "print(model_size_nonzero_parms)\n",
        "print(inference_times)"
      ],
      "metadata": {
        "id": "EuMzIWbqW0dD",
        "colab": {
          "base_uri": "https://localhost:8080/"
        },
        "outputId": "02b0f039-e33d-4fd6-baab-d0eea0c62c71"
      },
      "execution_count": 38,
      "outputs": [
        {
          "output_type": "stream",
          "name": "stdout",
          "text": [
            "{'Original Model Accuracy': 0.898, 'Pruned Model Accuracy': 0.9, 'Quantized Pruned Model Accuracy': 0.826, 'MLC Optimized Model Accuracy': 0.824}\n",
            "{'Original Model': 1747.2509765625, 'Pruned Model Size (ONNX)': 1747.2509765625, 'Quantized Model Size (ONNX)': 1747.2509765625}\n",
            "{'Original Model Non-Zero Parameters': 446975, 'Pruned Model Non-Zero Parameters': 225301, 'Quantized Model Non-Zero Parameters': 225301}\n",
            "{'Original Model Inference Time': 195.7414197921753, 'Pruned Model Inference Time': 109.12457942962646, 'Quantized Model Inference Time': 107.9819130897522, 'MLC Optimized Model Inference Time (Autotuned)': 323.5980558395386}\n"
          ]
        }
      ]
    },
    {
      "cell_type": "code",
      "source": [
        "# Function to plot a table\n",
        "def plot_table(data, title, col_labels, row_labels, col_colors, row_colors, table_location):\n",
        "    fig, ax = plt.subplots(figsize=(8, 2))  # Adjust size as needed\n",
        "    ax.axis('off')  # Turn off axes\n",
        "\n",
        "    # Create the table\n",
        "    table = ax.table(cellText=data, colLabels=col_labels, rowLabels=row_labels, loc='center', cellLoc='center')\n",
        "\n",
        "    # Styling: set background color for the header and row labels\n",
        "    for (i, j), cell in table.get_celld().items():\n",
        "        if i == 0:  # Header row\n",
        "            cell.set_fontsize(12)\n",
        "            cell.set_text_props(weight='bold')\n",
        "            cell.set_facecolor('#f5f5f5')\n",
        "        elif j == 0:  # Row labels\n",
        "            cell.set_fontsize(10)\n",
        "            cell.set_text_props(weight='bold')\n",
        "            cell.set_facecolor('#e0e0e0')\n",
        "        else:\n",
        "            cell.set_fontsize(10)\n",
        "            cell.set_text_props(weight='normal')\n",
        "            cell.set_facecolor('#ffffff')\n",
        "\n",
        "    # Title\n",
        "    ax.set_title(title, fontsize=14, weight='bold', loc='center')\n",
        "\n",
        "    plt.show()"
      ],
      "metadata": {
        "id": "mXqJvkE-l396"
      },
      "execution_count": 39,
      "outputs": []
    },
    {
      "cell_type": "code",
      "source": [
        "# 1. Test Accuracy Table\n",
        "accuracy_data = np.array([[v] for v in test_accuracies.values()])\n",
        "accuracy_columns = ['Test Accuracy']\n",
        "accuracy_rows = list(test_accuracies.keys())\n",
        "plot_table(accuracy_data, \"Quality (Test Accuracies)\", accuracy_columns, accuracy_rows, None, None, \"accuracy_table\")"
      ],
      "metadata": {
        "colab": {
          "base_uri": "https://localhost:8080/",
          "height": 214
        },
        "id": "P6niAWfmrKZg",
        "outputId": "a3d18893-943b-46ce-fe05-2dc3ffc88d21"
      },
      "execution_count": 40,
      "outputs": [
        {
          "output_type": "display_data",
          "data": {
            "text/plain": [
              "<Figure size 800x200 with 1 Axes>"
            ],
            "image/png": "[encoded data removed]"
          },
          "metadata": {}
        }
      ]
    },
    {
      "cell_type": "code",
      "source": [
        "# 2. Inference Time Table\n",
        "inference_time_data = np.array([[v] for v in inference_times.values()])\n",
        "inference_time_columns = ['Inference Time (ms)']\n",
        "inference_time_rows = list(inference_times.keys())\n",
        "plot_table(inference_time_data, \"Inference Time\", inference_time_columns, inference_time_rows, None, None, \"inference_time_table\")"
      ],
      "metadata": {
        "colab": {
          "base_uri": "https://localhost:8080/",
          "height": 214
        },
        "id": "kUDg-tQxrLFm",
        "outputId": "feeff0d3-deff-4555-d234-2b31f09547fd"
      },
      "execution_count": 41,
      "outputs": [
        {
          "output_type": "display_data",
          "data": {
            "text/plain": [
              "<Figure size 800x200 with 1 Axes>"
            ],
            "image/png": "[encoded data removed]"
          },
          "metadata": {}
        }
      ]
    },
    {
      "cell_type": "code",
      "source": [
        "# 3. Model Size (ONNX) Table\n",
        "onnx_size_data = np.array([[v] for v in model_sizes_onnx.values()])\n",
        "onnx_size_columns = ['Model Size (ONNX) (KB)']\n",
        "onnx_size_rows = list(model_sizes_onnx.keys())\n",
        "plot_table(onnx_size_data, \"Model Size (ONNX)\", onnx_size_columns, onnx_size_rows, None, None, \"onnx_size_table\")"
      ],
      "metadata": {
        "colab": {
          "base_uri": "https://localhost:8080/",
          "height": 214
        },
        "id": "qfLeGnWlrOJU",
        "outputId": "4be02319-6899-41eb-e128-13f3ad03d393"
      },
      "execution_count": 42,
      "outputs": [
        {
          "output_type": "display_data",
          "data": {
            "text/plain": [
              "<Figure size 800x200 with 1 Axes>"
            ],
            "image/png": "[encoded data removed]"
          },
          "metadata": {}
        }
      ]
    },
    {
      "cell_type": "code",
      "source": [
        "# 4. Model Size (Non-Zero Parameters) Table\n",
        "nonzero_params_data = np.array([[v] for v in model_size_nonzero_parms.values()])\n",
        "nonzero_params_columns = ['Model Size (Non-Zero Parameters)']\n",
        "nonzero_params_rows = list(model_size_nonzero_parms.keys())\n",
        "plot_table(nonzero_params_data, \"Model Size (Non-Zero Parameters)\", nonzero_params_columns, nonzero_params_rows, None, None, \"nonzero_params_table\")\n"
      ],
      "metadata": {
        "colab": {
          "base_uri": "https://localhost:8080/",
          "height": 214
        },
        "id": "baIu5TfrrQgk",
        "outputId": "5c41bab9-0693-40ee-f372-f17f397b208d"
      },
      "execution_count": 43,
      "outputs": [
        {
          "output_type": "display_data",
          "data": {
            "text/plain": [
              "<Figure size 800x200 with 1 Axes>"
            ],
            "image/png": "[encoded data removed]"
          },
          "metadata": {}
        }
      ]
    }
  ],
  "metadata": {
    "colab": {
      "provenance": [],
      "gpuType": "T4"
    },
    "kernelspec": {
      "display_name": "Python 3",
      "name": "python3"
    },
    "language_info": {
      "name": "python"
    },
    "accelerator": "GPU"
  },
  "nbformat": 4,
  "nbformat_minor": 0
}